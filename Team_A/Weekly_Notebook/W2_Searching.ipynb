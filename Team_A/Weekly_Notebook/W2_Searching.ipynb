{
 "cells": [
  {
   "cell_type": "markdown",
   "id": "015664bb",
   "metadata": {},
   "source": [
    "# Week 2: Searching"
   ]
  },
  {
   "cell_type": "markdown",
   "id": "ae2dd405",
   "metadata": {},
   "source": [
    "__Table of Contents__ <br>\n",
    "\n",
    "1. dd\n"
   ]
  },
  {
   "cell_type": "code",
   "execution_count": null,
   "id": "f8ff7b71",
   "metadata": {},
   "outputs": [],
   "source": []
  }
 ],
 "metadata": {
  "kernelspec": {
   "display_name": "Python 3 (ipykernel)",
   "language": "python",
   "name": "python3"
  },
  "language_info": {
   "codemirror_mode": {
    "name": "ipython",
    "version": 3
   },
   "file_extension": ".py",
   "mimetype": "text/x-python",
   "name": "python",
   "nbconvert_exporter": "python",
   "pygments_lexer": "ipython3",
   "version": "3.9.7"
  }
 },
 "nbformat": 4,
 "nbformat_minor": 5
}
