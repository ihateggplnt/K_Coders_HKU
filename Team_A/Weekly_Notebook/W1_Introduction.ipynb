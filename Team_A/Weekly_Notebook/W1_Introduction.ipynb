{
 "cells": [
  {
   "cell_type": "markdown",
   "id": "c51a407b",
   "metadata": {},
   "source": [
    "# Week 1: Introduction"
   ]
  },
  {
   "cell_type": "markdown",
   "id": "0536d5bf",
   "metadata": {},
   "source": [
    "**Table of Contents** <br>\n",
    "\n",
    "1. Python 개발 환경 구축하기\n",
    "2. Jupyter Notebook 환경 구축하기\n",
    "3. Github 사용법 및 Duties\n",
    "4. Python Basics"
   ]
  },
  {
   "cell_type": "markdown",
   "id": "3b4581bb",
   "metadata": {},
   "source": [
    "## 1. Python 개발 환경 구축하기"
   ]
  },
  {
   "cell_type": "markdown",
   "id": "4232d069",
   "metadata": {},
   "source": [
    "파이썬은 모두가 알다시피 굉장히 강력하고 쉬운 개발 언어 중 하나입니다. 다양한 도메인의 실무에서 활용되고 있으며, 다양한 오픈소스 라이브러리를 통해 다양한 기능을 구축할 수 있는 장점이 있습니다. <br>\n",
    "  \n",
    "우선은 로컬에서 Python 개발 환경을 구축하는 방법입니다. 만약 익숙치 않으시다면 구글에 \"파이썬 개발환경 구축하기 <운영체제>\" 검색하시면 저보다 더 자세히 그리고 친절하게 설명하니 참고 바랍니다. <br>\n",
    "  \n",
    "https://www.python.org/downloads/ <br>\n",
    "\n",
    "위의 링크에 들어가셔서 자신의 컴퓨터의 운영체제에 맞게 다운로드를 하면 됩니다. 현재 날짜 기준 (12 Jan 2022) 으로 파이썬 3.10 버전이 최신 버전입니다. <br>\n",
    "  \n",
    "**코드 편집기** <br>\n",
    "  \n",
    "https://code.visualstudio.com/download <br>\n",
    "\n",
    "코드 편집 프로그램은 굉장히 다양하지만, 개인적인 경험과 커뮤니티의 트렌드에 비추어 볼때, microsoft사에서 지원하는 vscode 프로그램이 가장 깔끔하고 강력한 기능들을 지원합니다. 이외에도 많은 프로그램이 존재하나, 기존에 쓰고있던 프로그램이 따로 있지 않다면, vscode를 사용하시는 것을 권장드립니다. <br>\n",
    "  \n",
    "**터미널 사용** <br>\n",
    "  \n",
    "파이썬 관련 라이브러리를 손쉽게 다운받거나 파이썬 파일을 실행할 때 리눅스 커맨드를 사용하게 됩니다. 맥 유저의 경우 기본적으로 깔려있는 Terminal 을 열어서 사용하면 되고, 윈도우 유저의 경우 내장된 명령 프롬프트 혹은 파워셸을 열어서 커맨드를 입력하게 됩니다. <br> \n",
    "  \n",
    "윈도우는 ssh 기반이기 때문에 커맨드에 ssh를 입력하고 엔터를 한 번 쳐주시고 맥은 zsh 기반이기 때문에 커맨드에 zsh를 입력하고 엔터를 한 번 쳐주시길 바랍니다. 아래는 기본적인 리눅스 커맨드입니다. <br>\n",
    "\n",
    "- ls: 현재 디렉토리의 하위 폴더 및 파일을 리스트업해서 보여줍니다. \n",
    "- cd 폴더: 해당 폴더로 이동합니다.\n",
    "- cd .. : 상위 폴더로 이동합니다.\n",
    "  \n",
    "이러한 커맨드를 알아야하는 이유는 파일이 위치해 있는 디렉토리로 이동을 해서 파이썬 파일을 실행해야하기 때문입니다. <br>\n",
    "\n",
    "**파이썬 파일 실행** <br>\n",
    "  \n",
    "파이썬 파일을 실행하기 위해서는 해당 파일이 위치해 있는 디렉토리로 이동해 커맨드에 python3 파일명 을 입력한 뒤 엔터를 쳐주시면 실행됩니다. <br>\n",
    "  \n",
    "vscode에서 파일을 실행하는 방법은 vscode의 터미널을 열고 똑같이 실행해주시면 됩니다. <br>\n",
    "  \n",
    "**파이썬 라이브러리 다운받기** <br>\n",
    "  \n",
    "앞서 언급했듯이 파이썬의 장점은 외부 오픈소스 라이브러리의 활용도가 굉장히 높다는 점입니다. 주로 활용되는 라이브러리는 밑에 리스트업 해두도록 하겠습니다. 라이브러리를 다운받기 위해서는 터미널을 열고 pip3 install 라이브러리명 을 입력한 뒤 엔터를 치면 알아서 설치를 도와줄 것 입니다. 아나콘다 환경에서 작업을 하는 경우 conda install 라이브러리명을 입력한 뒤 엔터를 치면 됩니다. <br>\n",
    "\n",
    "    pip3 install 라이브러리명             #(라이브러리 설치 - 로컬 base 환경에서)\n",
    "    conda install 라이브러리명            #(라이브러리 설치 - 아나콘다 환경에서)\n",
    "    pip3 install 라이브러리명 --upgrade   #(라이브러리 업데이트 - 로컬 base 환경에서)\n",
    "    conda update 라이브러리명             #(라이브러리 업데이트 - 아나콘다 환경에서)\n",
    "    pip3 freeze                        #(설치된 라이브러리 확인)\n",
    "    conda list                         #(설치된 라이브러리 확인)\n",
    "  \n",
    "***자주 사용되는 라이브러리 목록:*** <br>\n",
    "  \n",
    "파이썬 내장 라이브러리 (별도 설치x): \n",
    "- itertools\n",
    "- os, sys, re\n",
    "- heapq\n",
    "- bisect\n",
    "- collections\n",
    "- math\n",
    "- tkinter\n",
    "  \n",
    "데이터 분석:\n",
    "- NumPy\n",
    "- Pandas\n",
    "- Matplotlib\n",
    "- Seaborn\n",
    "- statsmodels\n",
    "  \n",
    "웹 크롤링/스크래핑:\n",
    "- Beautifulsoup\n",
    "- Selenium\n",
    "- Scrapy\n",
    "  \n",
    "머신러닝/딥러닝:\n",
    "- scikitlearn\n",
    "- pytorch\n",
    "- tensorflow\n",
    "  \n",
    "GUI:\n",
    "- pyqt\n",
    "- PySide\n",
    "  \n",
    "DB:\n",
    "- pymysql\n",
    "- sqlite3\n",
    "  \n",
    "이외에도 다양한 라이브러리가 많으니 구글을 참고 부탁드립니다^^"
   ]
  },
  {
   "cell_type": "markdown",
   "id": "b531187b",
   "metadata": {},
   "source": [
    "## Jupyter Notebook 환경 구축하기"
   ]
  },
  {
   "cell_type": "markdown",
   "id": "18c5d5a0",
   "metadata": {},
   "source": [
    "Jupyter Notebook은 셀마다 코드를 실행해 볼 수 있다는 점이 특징인 프로그램입니다. 확장자는 .ipynb 파일이며, python 기반이고, 로컬 및 클라우드 환경에서 작업할 수 있습니다. 실제로 데이터 분석을 할 때 마크다운과 혼용할 수 있으며, 깔끔하게 분석 내용 및 과정을 정리할 수 있다는 점에서 굉장한 장점을 가졌다고 할 수 있습니다. <br>\n",
    "  \n",
    "본 스터디에서도 주간 코드 정리를 ipynb 형태로 깔끔하게 문제별로 Present 해서 Github에 커밋해야 함으로, 설치는 옵션이 아닌 필수입니다. 역시 익숙치 않다면 구글링 혹은 제게 따로 연락주시면 성의껏 도와드리도록 하겠습니다. <br>\n",
    "  \n",
    "https://www.anaconda.com/products/individual <br>\n",
    "  \n",
    "위의 링크에 들어가셔서 아나콘다를 자신의 운영체제에 맞게 설치합니다. 아나콘다를 설치함과 동시에 유용한 외부 라이브러리들과 Jupyter Notebook이 동시에 다운로드 됩니다. 아나콘다에 대한 설명은 밑에 첨부하겠습니다. 본 스터디에서는 아나콘다 가상환경 구축은 필수는 아니나 추후에 실무에 들어가면 구축을 하게 될 것입니다. <br>\n",
    "  \n",
    "**주피터 노트북** <br>\n",
    "\n",
    "1. 로컬에서 실행 <br>\n",
    "\n",
    "터미널을 여시고 커맨드에 Jupyter Notebook을 입력한 뒤 엔터를 치면 새 창에서 주피터 노트북 서버가 실행됩니다. 워킹 디렉토리로 들어가셔서 오른쪽 상단즈음에 new를 클릭하시고 python3를 누르시면 새 파일이 나옵니다. <br>\n",
    "\n",
    "2. 클라우드에서의 ipynb <br>\n",
    "\n",
    "구글에서 colab이라는 플랫폼을 지원합니다. 따로 아나콘다 설치가 필요없고, 웬만한 라이브러리는 이미 설치가 되어있기 때문에 따로 번거로운 작업을 안해도 된다는 장점이 있지만, 실무에서는 크게 활용되지 않습니다. 하지만 학교 수업에서 협업해야 되는 과제 같은 경우에는 활용하기 좋습니다. 물론 Github 사용을 권장하지만 귀찮으니까요 ㅎㅎ... 파일 만드는 법은 어렵지 않습니다. 우선 처음 사용하시는 분은 구글 colab이 활성화 될 수 있도록 설정해주시고, 추후에는 구글닥 만들듯이 새로 만들기 탭에 google colab을 클릭하시면 드라이브 해당 디렉토리에 ipynb 파일이 생성됩니다.\n",
    "\n",
    "**사용법** <br>\n",
    "  \n",
    "앞서 얘기했듯 ipynb는 셀마다 구동시킬 수 있는 특징이 있습니다. 셀에 코드를 입력한 뒤 메뉴 탭의 Run 버튼 혹은 Ctrl+Enter를 누르시면 바로 결과가 출력됩니다. 또한 마크다운을 사용할 수 있는 장점이 있는데, 위 메뉴탭에 셀을 Markdown 셀로 변환할 수 있는 옵션이 있습니다. 단축키는 모르겠네요..ㅎ 마크다운 문법은 숙지하시면 굉장히 좋습니다. 자세한 사항은 구글링 부탁드립니다. <br>"
   ]
  },
  {
   "cell_type": "code",
   "execution_count": 4,
   "id": "d6f08c91",
   "metadata": {},
   "outputs": [
    {
     "name": "stdout",
     "output_type": "stream",
     "text": [
      "Hello Python!\n"
     ]
    }
   ],
   "source": [
    "#예\n",
    "\n",
    "print(\"Hello Python!\")"
   ]
  },
  {
   "cell_type": "markdown",
   "id": "9e1c2414",
   "metadata": {},
   "source": [
    "## 3. Github 사용법 및 Duties"
   ]
  },
  {
   "cell_type": "markdown",
   "id": "bae3e171",
   "metadata": {},
   "source": [
    "Github는 개발자들이 협업을 위한 원격 저장소 같은 개념입니다. 특히나 버전 관리를 위해서라도 Github를 쓰는 것을 권장합니다. 추후에 실무에서는 기본 소양일 만큼 쓰는 것에 익숙해지길 바랍니다. <br>\n",
    "  \n",
    "유튜브 링크를 남길테니 Github가 무엇인지 감이 안잡히신다면 시간을 내서 시청해주신다면 감사하겠습니다. <br>\n",
    "  \n",
    "Git/Github 가 무엇인고?: https://www.youtube.com/watch?v=YFNQwo7iTNc&t=10s\n",
    "  \n",
    "아래 영상은 필수로 시청하시길 바랍니다. <br>\n",
    "  \n",
    "Github 사용하기: https://www.youtube.com/watch?v=lelVripbt2M\n",
    "\n",
    "**본 스터디에서 github 활용하기** <br>\n",
    "  \n",
    "여기를 읽기전에 깃허브를 처음 사용하시는 분들 무조건 위 영상을 시청하고 읽어주시길 바랍니다. 원래는 Main Branch에 바로 커밋하는 것은 있을 수 없는 일이지만, push하고 pull하는 과정이 저나 팀원들이나 모두 번거로울 수 있기에 바로 Main Branch에 커밋하시면 됩니다. <br>\n",
    "  \n",
    "꼭 매주 clone 해서 업데이트를 놓치지 말길 바랍니다. <br>\n",
    "  \n",
    "리드미에 표시되어 있듯이 모든 멤버는 몇가지 Duty 들이 있습니다. <br>\n",
    "1. **문제풀이 커밋:** 1주일에 최소 다섯문제는 풀어서 해당 문제에 해당하는 디렉토리에 문제 풀이 파일(.py)을 커밋해주시면 됩니다. 물론 더 많은 문제를 풀면 그만큼 실력이 빠르게 향상 되겠죠. 개발자 사이에서는 1일 1커밋이라는 습관을 들이는 연습을 합니다. 꾸준히 커밋을 하는만큼 실력 향상도 도움이 될 거니까요 :)\n",
    "  \n",
    "  \n",
    "2. **주간 코드 정리:** 매주 자신이 푼 문제들 중 5문제들을 선정해 ipynb 파일로 정리하고 코드 정리 디렉토리에 커밋합니다. 자신에게는 리캡을 하는 과정일 뿐만아니라 다른 사람들에게도 자신의 풀이를 공유할 수 있는 좋은 습관이라 생각합니다.\n",
    "  \n",
    "  \n",
    "3. **로깅:** 로깅 폴더에 자신의 로그에 자신이 푼 문제들을 기록합니다. 자신의 status를 tracking 하는 좋은 습관입니다. "
   ]
  },
  {
   "cell_type": "markdown",
   "id": "257dcb16",
   "metadata": {},
   "source": [
    "## 4. Python Basics"
   ]
  },
  {
   "cell_type": "markdown",
   "id": "381fb336",
   "metadata": {},
   "source": [
    "파이썬 기초: https://wikidocs.net/43"
   ]
  },
  {
   "cell_type": "code",
   "execution_count": 5,
   "id": "bef8f769",
   "metadata": {},
   "outputs": [],
   "source": [
    "# 1. Importing Libraries\n",
    "\n",
    "# 앞에 #기호를 붙이면 주석처리 할 수 있다.\n",
    "\"\"\"\n",
    "이 안에 있는 모든 내용은 전부 주석 처리된다.\n",
    "\"\"\"\n",
    "import pandas as pd # as pd로 import 하면 추후에 pandas.concat 이 아닌 pd.concat 이런식으로 줄여서 쓸 수 있다.\n",
    "import os, sys # 한번에 여러개 라이브러리 import 가능"
   ]
  },
  {
   "cell_type": "code",
   "execution_count": 14,
   "id": "e6971057",
   "metadata": {},
   "outputs": [
    {
     "name": "stdout",
     "output_type": "stream",
     "text": [
      "x contains variable\n",
      "y contains 20\n",
      "z contains 1.2 \n",
      "\n",
      "a contains [1, 2, 3, 4, 5]\n",
      "b contains {1: 'Hi', 2: 'Hello', 3: 'Bonjour'}\n",
      "c contains (1, 2, 3) \n",
      "\n",
      "a 의 첫번째 원소는 1\n",
      "b 의 인덱스 1에 해당하는 원소는 Hi\n",
      "c 의 두번째부터 모든 원소는 (2, 3) \n",
      "\n",
      "b의 키값은 dict_keys([1, 2, 3])\n"
     ]
    }
   ],
   "source": [
    "# 2. 변수 할당 및 자료형\n",
    "\n",
    "x = 'variable' # 앞으로 x는 'variable' 이라는 문자 값을 저장한다\n",
    "y = 20 # 20은 정수 자료형\n",
    "z = 1.2 # float (실수) 자료형\n",
    "w = True # Boolean (논리값) 자료형\n",
    "\n",
    "a = [1,2,3,4,5] # 리스트\n",
    "b = {1:'Hi', 2:'Hello', 3:'Bonjour'} # 딕셔너리\n",
    "c = (1, 2, 3) # 튜플\n",
    "\n",
    "print('x contains {}'.format(x)) #format 함수는 {}에 들어갈 값을 변수로 대체한다\n",
    "print('y contains {}'.format(y))\n",
    "print('z contains {} \\n'.format(z)) #\\n 은 줄바꿈\n",
    "\n",
    "print('a contains {}'.format(a))\n",
    "print('b contains {}'.format(b))\n",
    "print('c contains {} \\n'.format(c))\n",
    "\n",
    "print('a 의 첫번째 원소는 {}'.format(a[0])) # 리스트 인덱싱\n",
    "print('b 의 인덱스 1에 해당하는 원소는 {}'.format(b[1])) # 딕셔너리 슬라이싱\n",
    "print('c 의 두번째부터 모든 원소는 {} \\n'.format(c[1:])) # 튜플 슬라이싱\n",
    "\n",
    "print('b의 키값은 {}'.format(b.keys())) # 딕셔너리 키값 반환"
   ]
  },
  {
   "cell_type": "code",
   "execution_count": 17,
   "id": "f02b1e12",
   "metadata": {},
   "outputs": [
    {
     "name": "stdout",
     "output_type": "stream",
     "text": [
      "2 > 1\n"
     ]
    }
   ],
   "source": [
    "# 3. 조건문\n",
    "\n",
    "a = 1\n",
    "b = 2\n",
    "\n",
    "if a > b:\n",
    "    print(a, \">\", b)\n",
    "else:\n",
    "    print(b, \">\", a)"
   ]
  },
  {
   "cell_type": "code",
   "execution_count": 18,
   "id": "6843acc9",
   "metadata": {},
   "outputs": [
    {
     "name": "stdout",
     "output_type": "stream",
     "text": [
      "a and b both true\n"
     ]
    }
   ],
   "source": [
    "a = True\n",
    "b = True\n",
    "\n",
    "if a is True and b is True:\n",
    "    print(\"a and b both true\")\n",
    "elif a is True and b is not True:\n",
    "    print(\"Only a is true\")\n",
    "elif a is not True and b is True:\n",
    "    print(\"Only b is true\")\n",
    "else:\n",
    "    print(\"and b both false\")"
   ]
  },
  {
   "cell_type": "code",
   "execution_count": 20,
   "id": "5b0b4e94",
   "metadata": {},
   "outputs": [
    {
     "name": "stdout",
     "output_type": "stream",
     "text": [
      "0\n",
      "1\n",
      "4\n",
      "9\n",
      "16\n"
     ]
    }
   ],
   "source": [
    "# 4. 반복문\n",
    "\n",
    "a = [1, 2, 3, 4, 5]\n",
    "\n",
    "for i in range(len(a)): # a 리스트의 길이만큼 iterate; i는 0부터 시작\n",
    "    print(i**2)"
   ]
  },
  {
   "cell_type": "code",
   "execution_count": 21,
   "id": "61834242",
   "metadata": {},
   "outputs": [
    {
     "name": "stdout",
     "output_type": "stream",
     "text": [
      "1\n",
      "4\n",
      "9\n",
      "16\n",
      "25\n"
     ]
    }
   ],
   "source": [
    "a = [1, 2, 3, 4, 5]\n",
    "\n",
    "for element in a: # a 리스트안의 원소를 순회 element는 1부터 시작\n",
    "    print(element**2)"
   ]
  },
  {
   "cell_type": "code",
   "execution_count": 23,
   "id": "18509bd0",
   "metadata": {},
   "outputs": [
    {
     "name": "stdout",
     "output_type": "stream",
     "text": [
      "1\n",
      "4\n",
      "9\n",
      "16\n",
      "25\n"
     ]
    }
   ],
   "source": [
    "a = [1,2,3,4,5]\n",
    "\n",
    "i = 0\n",
    "while True: # break 조건이 없으면 infinite loop\n",
    "    if i > 4:\n",
    "        break # loop 탈출\n",
    "    else:\n",
    "        print(a[i]**2)\n",
    "    i += 1 # 매 loop 마다 i의 값을 1씩 증가"
   ]
  },
  {
   "cell_type": "code",
   "execution_count": 24,
   "id": "7a7674cd",
   "metadata": {},
   "outputs": [
    {
     "name": "stdout",
     "output_type": "stream",
     "text": [
      "a + b =  5\n",
      "a x b =  6\n",
      "a - b =  -1\n",
      "a / c =  0.3333333333333333\n",
      "b^a =  9\n",
      "a mod c =  2 \n",
      "\n",
      "d and e =  False\n",
      "d or e =  True\n"
     ]
    }
   ],
   "source": [
    "# 5. 연산자\n",
    "\n",
    "a = 2\n",
    "b = 3\n",
    "c = 6\n",
    "\n",
    "d = True\n",
    "e = False\n",
    "\n",
    "print(\"a + b = \", a+b)\n",
    "print(\"a x b = \", a*b)\n",
    "print(\"a - b = \", a-b)\n",
    "print(\"c / a = \", c/a)\n",
    "print(\"b^a = \", b**a)\n",
    "print(\"a mod c = \", a%c, \"\\n\")\n",
    "\n",
    "print(\"d and e = \", (d and e))\n",
    "print(\"d or e = \", (d or e))"
   ]
  },
  {
   "cell_type": "code",
   "execution_count": 26,
   "id": "69050a73",
   "metadata": {},
   "outputs": [
    {
     "data": {
      "text/plain": [
       "0.75"
      ]
     },
     "execution_count": 26,
     "metadata": {},
     "output_type": "execute_result"
    }
   ],
   "source": [
    "# 6. 함수\n",
    "\n",
    "def your_fn_name(parameter1, parameter2, parameter3):\n",
    "    out = (parameter1 + parameter2) / parameter3\n",
    "    return out\n",
    "\n",
    "a = 1\n",
    "b = 2\n",
    "c = 4\n",
    "\n",
    "your_fn_name(a, b, c)"
   ]
  },
  {
   "cell_type": "markdown",
   "id": "33df043f",
   "metadata": {},
   "source": [
    "이 외에도 위에 명시한 링크에서 기본적인 부분들은 미리 공부하시길 바랍니다!"
   ]
  },
  {
   "cell_type": "code",
   "execution_count": null,
   "id": "85a06493",
   "metadata": {},
   "outputs": [],
   "source": []
  }
 ],
 "metadata": {
  "kernelspec": {
   "display_name": "Python 3 (ipykernel)",
   "language": "python",
   "name": "python3"
  },
  "language_info": {
   "codemirror_mode": {
    "name": "ipython",
    "version": 3
   },
   "file_extension": ".py",
   "mimetype": "text/x-python",
   "name": "python",
   "nbconvert_exporter": "python",
   "pygments_lexer": "ipython3",
   "version": "3.9.7"
  }
 },
 "nbformat": 4,
 "nbformat_minor": 5
}
