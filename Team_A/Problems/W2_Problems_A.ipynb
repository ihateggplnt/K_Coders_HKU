{
 "cells": [
  {
   "cell_type": "markdown",
   "id": "8a85852b",
   "metadata": {},
   "source": [
    "## Week 2:\n",
    "\n",
    "- Algorithm: Search, Math\n",
    "- Data Structure: Array\n",
    "- Python Basics"
   ]
  },
  {
   "cell_type": "markdown",
   "id": "91b56cb6",
   "metadata": {},
   "source": [
    "### 24 Jan 2022"
   ]
  },
  {
   "cell_type": "code",
   "execution_count": null,
   "id": "73af34da",
   "metadata": {},
   "outputs": [],
   "source": []
  },
  {
   "cell_type": "markdown",
   "id": "2172fa7e",
   "metadata": {},
   "source": [
    "### 25 Jan 2022"
   ]
  },
  {
   "cell_type": "markdown",
   "id": "bc97903c",
   "metadata": {},
   "source": [
    "### 26 Jan 2022"
   ]
  },
  {
   "cell_type": "markdown",
   "id": "15de248f",
   "metadata": {},
   "source": [
    "### 27 Jan 2022"
   ]
  },
  {
   "cell_type": "markdown",
   "id": "83d3ea84",
   "metadata": {},
   "source": [
    "### 28 Jan 2022"
   ]
  },
  {
   "cell_type": "code",
   "execution_count": null,
   "id": "1a3599b6",
   "metadata": {},
   "outputs": [],
   "source": []
  }
 ],
 "metadata": {
  "kernelspec": {
   "display_name": "Python 3 (ipykernel)",
   "language": "python",
   "name": "python3"
  },
  "language_info": {
   "codemirror_mode": {
    "name": "ipython",
    "version": 3
   },
   "file_extension": ".py",
   "mimetype": "text/x-python",
   "name": "python",
   "nbconvert_exporter": "python",
   "pygments_lexer": "ipython3",
   "version": "3.9.7"
  }
 },
 "nbformat": 4,
 "nbformat_minor": 5
}
