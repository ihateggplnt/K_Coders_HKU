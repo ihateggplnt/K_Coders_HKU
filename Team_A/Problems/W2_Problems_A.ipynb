{
 "cells": [
  {
   "cell_type": "markdown",
   "id": "8a85852b",
   "metadata": {},
   "source": [
    "## Week 2\n",
    "\n",
    "- Algorithm: Search, Math\n",
    "- Data Structure: Array\n",
    "- Python Basics\n",
    "  \n",
    "__Source에 제공된 링크로 들어가 문제를 봅니다. 참고로 해당 플랫폼의 계정을 만들어야 합니다.__ <br>\n",
    "__문제풀이 테스트 하는 법: 해당 링크로 들어간다 --> 언어를 파이썬으로 설정한다 --> 자신의 풀이 코드를 넣고 돌려본다.__"
   ]
  },
  {
   "cell_type": "markdown",
   "id": "91b56cb6",
   "metadata": {},
   "source": [
    "### 24 Jan 2022\n",
    "\n",
    "Comment: Q5 푸시는 분이 과연 계실까요..?"
   ]
  },
  {
   "cell_type": "markdown",
   "id": "0b0a414d",
   "metadata": {},
   "source": [
    "__Q1. Sum of digits__ <br>\n",
    "\n",
    "__Problem No.__: GDA001 <br>\n",
    "__Topic__: Array <br>\n",
    "__Source__: https://practice.geeksforgeeks.org/problems/sum-of-digits1742/1/?page=2&query=page2 <br>\n",
    "__Difficulty: Basic__"
   ]
  },
  {
   "cell_type": "code",
   "execution_count": null,
   "id": "e467096c",
   "metadata": {},
   "outputs": [],
   "source": [
    "def sumOfDigits(N):\n",
    "    #Your Solution Here\n",
    "    "
   ]
  },
  {
   "cell_type": "markdown",
   "id": "ad28792c",
   "metadata": {},
   "source": [
    "__Q2. Remove Duplicates from Sorted Array__ <br>\n",
    "\n",
    "__Problem No.__: LDA001 <br>\n",
    "__Topic__: Array <br>\n",
    "__Source__: https://leetcode.com/problems/remove-duplicates-from-sorted-array/ <br>\n",
    "__Difficulty__: Easy"
   ]
  },
  {
   "cell_type": "code",
   "execution_count": null,
   "id": "73af34da",
   "metadata": {},
   "outputs": [],
   "source": [
    "class Solution:\n",
    "    def removeDuplicates(self, nums: List[int]) -> int:\n",
    "        #Your Solution Here"
   ]
  },
  {
   "cell_type": "markdown",
   "id": "19994391",
   "metadata": {},
   "source": [
    "__Q3. HackerRank 2D Array__ <br>\n",
    "\n",
    "__Problem No.__: HDA001 <br>\n",
    "__Topic__: Array <br>\n",
    "__Source__: https://www.hackerrank.com/challenges/2d-array/problem?isFullScreen=true <br>\n",
    "__Difficulty__: Medium"
   ]
  },
  {
   "cell_type": "code",
   "execution_count": null,
   "id": "f69b35bd",
   "metadata": {},
   "outputs": [],
   "source": [
    "#!/bin/python3\n",
    "\n",
    "import math\n",
    "import os\n",
    "import random\n",
    "import re\n",
    "import sys\n",
    "\n",
    "#\n",
    "# Complete the 'hourglassSum' function below.\n",
    "#\n",
    "# The function is expected to return an INTEGER.\n",
    "# The function accepts 2D_INTEGER_ARRAY arr as parameter.\n",
    "#\n",
    "\n",
    "def hourglassSum(arr):\n",
    "    # Write your code here\n",
    "\n",
    "if __name__ == '__main__':\n",
    "    fptr = open(os.environ['OUTPUT_PATH'], 'w')\n",
    "\n",
    "    arr = []\n",
    "\n",
    "    for _ in range(6):\n",
    "        arr.append(list(map(int, input().rstrip().split())))\n",
    "\n",
    "    result = hourglassSum(arr)\n",
    "\n",
    "    fptr.write(str(result) + '\\n')\n",
    "\n",
    "    fptr.close()"
   ]
  },
  {
   "cell_type": "markdown",
   "id": "77dd0dc1",
   "metadata": {},
   "source": [
    "__Q4. Median of Two Sorted Array__ <br>\n",
    "\n",
    "__Problem No.__: LDA002 <br>\n",
    "__Topic__: Array <br>\n",
    "__Source__: https://leetcode.com/problems/median-of-two-sorted-arrays/ <br>\n",
    "__Difficulty__: Medium"
   ]
  },
  {
   "cell_type": "code",
   "execution_count": null,
   "id": "fcd7ef24",
   "metadata": {},
   "outputs": [],
   "source": [
    "class Solution:\n",
    "    def findMedianSortedArrays(self, nums1: List[int], nums2: List[int]) -> float:\n",
    "        # Your Solution here"
   ]
  },
  {
   "cell_type": "markdown",
   "id": "84ed582d",
   "metadata": {},
   "source": [
    "__Q5. Sudoku Solver__ <br>\n",
    "\n",
    "__Problem No.__: LAB001 <br>\n",
    "__Topic__: Array, Backtracking, Matrix <br>\n",
    "__Source__: https://leetcode.com/problems/sudoku-solver/ <br>\n",
    "__Difficulty__: Hard"
   ]
  },
  {
   "cell_type": "code",
   "execution_count": null,
   "id": "ae855d10",
   "metadata": {},
   "outputs": [],
   "source": [
    "class Solution:\n",
    "    def solveSudoku(self, board: List[List[str]]) -> None:\n",
    "        \"\"\"\n",
    "        Do not return anything, modify board in-place instead.\n",
    "        \"\"\"\n",
    "        # Your Solution here"
   ]
  },
  {
   "cell_type": "markdown",
   "id": "2172fa7e",
   "metadata": {},
   "source": [
    "### 25 Jan 2022\n",
    "\n",
    "Comment: Array 정복 문제들"
   ]
  },
  {
   "cell_type": "markdown",
   "id": "f1f541c7",
   "metadata": {},
   "source": [
    "__Q1. Ishaan Loves Chocolates__ <br>\n",
    "\n",
    "__Problem No.__: GDA002 <br>\n",
    "__Topic__: Array <br>\n",
    "__Source__: https://practice.geeksforgeeks.org/problems/ishaan-loves-chocolates2156/1/?category[]=Arrays&category[]=Arrays&page=1&query=category[]Arrayspage1category[]Arrays <br>\n",
    "__Difficulty__: Easy"
   ]
  },
  {
   "cell_type": "code",
   "execution_count": null,
   "id": "1824d15f",
   "metadata": {},
   "outputs": [],
   "source": [
    "def chocolates (arr, n) : \n",
    "    #Complete the function\n",
    "    "
   ]
  },
  {
   "cell_type": "markdown",
   "id": "d03ad228",
   "metadata": {},
   "source": [
    "__Q2. HackerRank Sparse Arrays__ <br>\n",
    "\n",
    "__Problem No.__: HDA002 <br>\n",
    "__Topic__: Array <br>\n",
    "__Source__: https://www.hackerrank.com/challenges/sparse-arrays/problem?isFullScreen=true <br>\n",
    "__Difficulty__: Hard"
   ]
  },
  {
   "cell_type": "code",
   "execution_count": null,
   "id": "094b5c63",
   "metadata": {},
   "outputs": [],
   "source": [
    "#!/bin/python3\n",
    "\n",
    "import math\n",
    "import os\n",
    "import random\n",
    "import re\n",
    "import sys\n",
    "\n",
    "#\n",
    "# Complete the 'matchingStrings' function below.\n",
    "#\n",
    "# The function is expected to return an INTEGER_ARRAY.\n",
    "# The function accepts following parameters:\n",
    "#  1. STRING_ARRAY strings\n",
    "#  2. STRING_ARRAY queries\n",
    "#\n",
    "\n",
    "def matchingStrings(strings, queries):\n",
    "    # Write your code here\n",
    "\n",
    "if __name__ == '__main__':\n",
    "    fptr = open(os.environ['OUTPUT_PATH'], 'w')\n",
    "\n",
    "    strings_count = int(input().strip())\n",
    "\n",
    "    strings = []\n",
    "\n",
    "    for _ in range(strings_count):\n",
    "        strings_item = input()\n",
    "        strings.append(strings_item)\n",
    "\n",
    "    queries_count = int(input().strip())\n",
    "\n",
    "    queries = []\n",
    "\n",
    "    for _ in range(queries_count):\n",
    "        queries_item = input()\n",
    "        queries.append(queries_item)\n",
    "\n",
    "    res = matchingStrings(strings, queries)\n",
    "\n",
    "    fptr.write('\\n'.join(map(str, res)))\n",
    "    fptr.write('\\n')\n",
    "\n",
    "    fptr.close()"
   ]
  },
  {
   "cell_type": "markdown",
   "id": "c0691816",
   "metadata": {},
   "source": [
    "__Q3. HackerRank Array Manipulation__ <br>\n",
    "\n",
    "__Problem No.__: HDA003 <br>\n",
    "__Topic__: Array <br>\n",
    "__Source__: https://www.hackerrank.com/challenges/crush/problem?isFullScreen=true <br>\n",
    "__Difficulty__: Hard"
   ]
  },
  {
   "cell_type": "code",
   "execution_count": null,
   "id": "2caeebe9",
   "metadata": {},
   "outputs": [],
   "source": [
    "#!/bin/python3\n",
    "\n",
    "import math\n",
    "import os\n",
    "import random\n",
    "import re\n",
    "import sys\n",
    "\n",
    "#\n",
    "# Complete the 'arrayManipulation' function below.\n",
    "#\n",
    "# The function is expected to return a LONG_INTEGER.\n",
    "# The function accepts following parameters:\n",
    "#  1. INTEGER n\n",
    "#  2. 2D_INTEGER_ARRAY queries\n",
    "#\n",
    "\n",
    "def arrayManipulation(n, queries):\n",
    "    # Write your code here\n",
    "\n",
    "if __name__ == '__main__':\n",
    "    fptr = open(os.environ['OUTPUT_PATH'], 'w')\n",
    "\n",
    "    first_multiple_input = input().rstrip().split()\n",
    "\n",
    "    n = int(first_multiple_input[0])\n",
    "\n",
    "    m = int(first_multiple_input[1])\n",
    "\n",
    "    queries = []\n",
    "\n",
    "    for _ in range(m):\n",
    "        queries.append(list(map(int, input().rstrip().split())))\n",
    "\n",
    "    result = arrayManipulation(n, queries)\n",
    "\n",
    "    fptr.write(str(result) + '\\n')\n",
    "\n",
    "    fptr.close()"
   ]
  },
  {
   "cell_type": "markdown",
   "id": "fdb51cf5",
   "metadata": {},
   "source": [
    "__Q4. Trapping Rain Water__ <br>\n",
    "\n",
    "__Problem No.__: LDA003 <br>\n",
    "__Topic__: Array, DP, Stack, Two Pointer <br>\n",
    "__Source__: https://leetcode.com/problems/trapping-rain-water/ <br>\n",
    "__Difficulty__: Hard"
   ]
  },
  {
   "cell_type": "code",
   "execution_count": null,
   "id": "5a4cb428",
   "metadata": {},
   "outputs": [],
   "source": [
    "class Solution:\n",
    "    def trap(self, height: List[int]) -> int:\n",
    "        #Your Solution Here"
   ]
  },
  {
   "cell_type": "markdown",
   "id": "d683e0cd",
   "metadata": {},
   "source": [
    "__Q5. N-Queens__ <br>\n",
    "\n",
    "__Problem No.__: LDA004 <br>\n",
    "__Topic__: Array, Backtracking  <br>\n",
    "__Source__: https://leetcode.com/problems/n-queens/ <br>\n",
    "__Difficulty__: Medium"
   ]
  },
  {
   "cell_type": "code",
   "execution_count": null,
   "id": "c27d5cb9",
   "metadata": {},
   "outputs": [],
   "source": [
    "class Solution:\n",
    "    def solveNQueens(self, n: int) -> List[List[str]]:\n",
    "        #Your Solution Here"
   ]
  },
  {
   "cell_type": "markdown",
   "id": "bc97903c",
   "metadata": {},
   "source": [
    "### 26 Jan 2022"
   ]
  },
  {
   "cell_type": "markdown",
   "id": "15de248f",
   "metadata": {},
   "source": [
    "### 27 Jan 2022"
   ]
  },
  {
   "cell_type": "markdown",
   "id": "83d3ea84",
   "metadata": {},
   "source": [
    "### 28 Jan 2022"
   ]
  },
  {
   "cell_type": "code",
   "execution_count": null,
   "id": "1a3599b6",
   "metadata": {},
   "outputs": [],
   "source": []
  }
 ],
 "metadata": {
  "kernelspec": {
   "display_name": "Python 3 (ipykernel)",
   "language": "python",
   "name": "python3"
  },
  "language_info": {
   "codemirror_mode": {
    "name": "ipython",
    "version": 3
   },
   "file_extension": ".py",
   "mimetype": "text/x-python",
   "name": "python",
   "nbconvert_exporter": "python",
   "pygments_lexer": "ipython3",
   "version": "3.9.7"
  }
 },
 "nbformat": 4,
 "nbformat_minor": 5
}
