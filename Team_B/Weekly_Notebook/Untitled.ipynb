{
 "cells": [
  {
   "cell_type": "code",
   "execution_count": 1,
   "id": "7a4710cb",
   "metadata": {},
   "outputs": [
    {
     "name": "stdout",
     "output_type": "stream",
     "text": [
      "hi\n"
     ]
    }
   ],
   "source": [
    "a =10 \n",
    "\n",
    "print(\"hi\")"
   ]
  },
  {
   "cell_type": "code",
   "execution_count": 2,
   "id": "5bc07156",
   "metadata": {},
   "outputs": [
    {
     "data": {
      "text/plain": [
       "10"
      ]
     },
     "execution_count": 2,
     "metadata": {},
     "output_type": "execute_result"
    }
   ],
   "source": [
    "a"
   ]
  },
  {
   "cell_type": "markdown",
   "id": "c3e4d654",
   "metadata": {},
   "source": [
    "### 제목\n",
    "\n",
    "저이넙어반루압ㄴ루 ㅏ부 <br>\n",
    "wjdnoqkwndq.  \n",
    "dd"
   ]
  },
  {
   "cell_type": "markdown",
   "id": "45d35516",
   "metadata": {},
   "source": [
    "qwkldjql\n",
    "qkwjdhqowkhd"
   ]
  },
  {
   "cell_type": "markdown",
   "id": "6075d199",
   "metadata": {},
   "source": [
    "- doiuhqw\n",
    "- dhqiouw\n",
    "- dqiuwhd"
   ]
  },
  {
   "cell_type": "markdown",
   "id": "a7ce4e32",
   "metadata": {},
   "source": [
    "__qoidhqo__  \n",
    "_dhqw_"
   ]
  },
  {
   "cell_type": "code",
   "execution_count": null,
   "id": "33ae6ae1",
   "metadata": {},
   "outputs": [],
   "source": []
  }
 ],
 "metadata": {
  "kernelspec": {
   "display_name": "Python 3 (ipykernel)",
   "language": "python",
   "name": "python3"
  },
  "language_info": {
   "codemirror_mode": {
    "name": "ipython",
    "version": 3
   },
   "file_extension": ".py",
   "mimetype": "text/x-python",
   "name": "python",
   "nbconvert_exporter": "python",
   "pygments_lexer": "ipython3",
   "version": "3.9.7"
  }
 },
 "nbformat": 4,
 "nbformat_minor": 5
}
