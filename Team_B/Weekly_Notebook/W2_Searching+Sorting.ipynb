{
 "cells": [
  {
   "cell_type": "markdown",
   "id": "0466fa9c",
   "metadata": {},
   "source": [
    "# Week 2: Searching and Sorting"
   ]
  },
  {
   "cell_type": "markdown",
   "id": "8bd70c4c",
   "metadata": {},
   "source": [
    "__Table of Contents__ <br>\n",
    "\n",
    "1. Introduction\n",
    "2. DS: Array and Linked List\n",
    "3. Searching Algorithms\n",
    "4. Sorting Algorithms\n",
    "5. Conclusion"
   ]
  },
  {
   "cell_type": "markdown",
   "id": "2f5a5282",
   "metadata": {},
   "source": [
    "### 1. Introduction\n",
    "\n",
    "코딩테스트는 알고리즘 테스트라고도 불리죠. 코딩테스트에서의 알고리즘 문제는 딱 세가지 분류로 압축할 수 있을 것 같은데요. 첫째로는 해답을 찾는 Searching 문제들, 둘째로는 특정 조건에 맞게끔 재배치하는 Sorting 문제들, 그리고 특정 시간안에 태스크를 완료해야하는 Efficiency 문제들로 나뉠 수 있을 것 같습니다. <br>\n",
    "  \n",
    "가장 중요한 포인트는 문제 혹은 제시된 조건에 부합하는 데이터 구조를 구현하고 그에 맞는 가장 효율적인 searching 및 sorting 알고리즘을 구현하는 것입니다. 이 포인트는 스터디 내내 가장 중요한 포인트가 될 것 입니다. 이번주는 가장 기본이 되는 자료 구조인 Array와 Linked List를 공부하고, 어떤 방식으로 알고리즘을 짤 수 있을지 생각합니다. "
   ]
  },
  {
   "cell_type": "markdown",
   "id": "ed670b44",
   "metadata": {},
   "source": [
    "### 2. DS: Array and Linked List"
   ]
  },
  {
   "cell_type": "markdown",
   "id": "f63d3dde",
   "metadata": {},
   "source": [
    "__2.1 Array__ <br>\n",
    "  \n",
    "Array(배열)이라는 자료형은 technically 파이썬 기본 모듈에는 존재하지 않습니다. 그저 리스트라는 이름으로 존재하고 있죠. 편의상 배열이라고 지칭하면 파이썬의 리스트를 생각해 주시면 감사하겠습니다. 가장 떠올리기 쉬운 배열의 예시로는 1차원 벡터가 아닐까 싶습니다. 각 엔트리에 특정한 값이 들어가는 자료 구조인데, 파이썬의 경우 배열의 자료형을 혼용해서 사용할 수 있다는 점 입니다. "
   ]
  },
  {
   "cell_type": "code",
   "execution_count": 2,
   "id": "b940f089",
   "metadata": {},
   "outputs": [
    {
     "name": "stdout",
     "output_type": "stream",
     "text": [
      "['문자열', 1, [], True]\n"
     ]
    }
   ],
   "source": [
    "# 예시 1\n",
    "Arr1 = ['문자열', 1, [], True]\n",
    "print(Arr)"
   ]
  },
  {
   "cell_type": "markdown",
   "id": "06bc773b",
   "metadata": {},
   "source": [
    "위의 예시1 에서의 1차원 배열 Arr1은 4개의 원소를 포함합니다. 각 원소는 다른 자료형으로, 첫번째부터 문자열 (str), 정수형 (int), 리스트, 논리값 (bool) 입니다. 원소의 인덱스는 각 원소의 위치를 나타냅니다. 모든 프로그래밍 언어는 인덱스가 0부터 시작합니다."
   ]
  },
  {
   "cell_type": "code",
   "execution_count": 6,
   "id": "5b2ad9c9",
   "metadata": {},
   "outputs": [
    {
     "name": "stdout",
     "output_type": "stream",
     "text": [
      "문자열\n",
      "['문자열', 1]\n",
      "[1, []]\n"
     ]
    }
   ],
   "source": [
    "print(Arr1[0])         #첫번째 원소 출력하기\n",
    "print(Arr1[0:2])       #인덱스 0의 원소 부터 인덱스 2 이전의 원소까지 출력하기\n",
    "print(Arr1[-3:-1])     #맨 뒤 원소의 인덱스 --> -1 , 예) 맨 뒤부터 3번째 원소의 인덱스 --> -3"
   ]
  },
  {
   "cell_type": "markdown",
   "id": "e3a434aa",
   "metadata": {},
   "source": [
    "2차원 배열은 흔히들 얘기하는 행렬이 될 수 있겠습니다. 행렬은 선형 대수 연산이나 그래프를 표현하거나 할 때 자주쓰이는 자료구조 입니다. "
   ]
  },
  {
   "cell_type": "code",
   "execution_count": 10,
   "id": "e3f59d06",
   "metadata": {},
   "outputs": [
    {
     "name": "stdout",
     "output_type": "stream",
     "text": [
      "[1, 2, 3]\n",
      "[4, 5, 6]\n",
      "[7, 8, 9]\n"
     ]
    }
   ],
   "source": [
    "Arr2 = [[1,2,3],[4,5,6],[7,8,9]]\n",
    "\n",
    "for i in range(3):\n",
    "    print(Arr2[i])"
   ]
  },
  {
   "cell_type": "markdown",
   "id": "d8ed5033",
   "metadata": {},
   "source": [
    "이제부터 다룰 내용은 코딩테스트에서 사용을 유의하여야할 라이브러리입니다. 보통 대기업에서 정형화된 코딩테스트를 치루는 경우, 파이썬 내장 모듈이 아닌 외장 모듈을 사용하는 것을 금할때가 많습니다. 하지만 지금 다루는 NumPy 라는 모듈은 배열 조작, 선형 계산, 다차원 배열을 포함한 계산에서 가장 강력한 기능을 제공합니다. 실무 혹은 과제에서 다차원 데이터를 처리해야 할 경우 굉장히 유용한 툴임으로, 외부 모듈을 사용할 수 있다면 사용을 권장합니다."
   ]
  },
  {
   "cell_type": "code",
   "execution_count": 24,
   "id": "226ff8d2",
   "metadata": {},
   "outputs": [
    {
     "name": "stdout",
     "output_type": "stream",
     "text": [
      "#1:  [[ 1  2  3  4  5]\n",
      " [ 6  7  8  9 10]] \n",
      "\n",
      "#2:  (2, 5) \n",
      "\n",
      "#3:  int64 \n",
      "\n",
      "#4:  [[0. 0. 0. 0. 0.]\n",
      " [0. 0. 0. 0. 0.]] \n",
      "\n"
     ]
    }
   ],
   "source": [
    "import numpy as np #numpy 모듈을 np 로 import 한다\n",
    "\n",
    "#1. Numpy 배열 만들기\n",
    "data_1 = [[1,2,3,4,5],[6,7,8,9,10]] #2x5 배열\n",
    "arr1 = np.array(data_1)\n",
    "print(\"#1: \", arr1,\"\\n\")\n",
    "\n",
    "#2. 배열 크기 확인하기\n",
    "print(\"#2: \", arr1.shape,\"\\n\")\n",
    "\n",
    "#3. 배열 자료형 확인하기\n",
    "print(\"#3: \", arr1.dtype,\"\\n\")\n",
    "\n",
    "#4. 빈 배열 만들기\n",
    "arr_e = np.zeros((2,5)) #1로 가득찬 배열 만들기 --> np.ones(배열 크기)\n",
    "print(\"#4: \", arr_e, \"\\n\")\n",
    "\n",
    "#5. 넘파이 배열 연산: 행렬 연산 법칙에 따라 arr1 +-/* arr2 해주면 됩니다 ^^\n",
    "#6. 넘파이 배열 인덱싱:\n",
    "#6.1 1차원 배열: arr[0] --> 첫번째 원소, arr[13] --> 12번째 원소\n",
    "#6.2 2차원 배열: arr[2,3] --> 2행 3열에 위치한 원소\n",
    "#6.3 다차원 배열: arr[i,j,k,...]"
   ]
  },
  {
   "cell_type": "markdown",
   "id": "1ad96c8e",
   "metadata": {},
   "source": [
    "기본적인 numpy 만 다뤄봤고, 굉장히 많은 기능들과 활용법들이 많으니 공부해 보시는 것도 추천 드립니다."
   ]
  },
  {
   "cell_type": "markdown",
   "id": "44632d57",
   "metadata": {},
   "source": [
    "__2.2 Linked List__ <br>\n",
    "  \n",
    "Linked List (연결 리스트) 는 데이터의 추가 및 삭제가 용이하다는 점에서 배열과 차이가 있습니다. 파이썬 이전의 언어를 보면 배열의 순서를 조작하기 어렵기 때문에 연결 리스트라는 개념이 등장했습니다. 사실 Python 에서는 연결 리스트의 모든 기능을 제공하기 때문에 사실 파이썬으로 코딩 테스트를 치룬다면 연결 리스트를 별도로 구현해 줄 필요는 없습니다. 그래도 연결 리스트의 원리는 추후에 다양한 자료 구조로 발전하기 위한 기초이기 때문에 공부하셔야 합니다. <br>\n",
    "  \n",
    "연결 리스트에 대한 간략한 설명은:  \n",
    "https://www.geeksforgeeks.org/data-structures/linked-list/#singlyLinkedList  \n",
    "해당 링크를 참조해 주세요. <br>\n",
    "  \n",
    "연결 리스트의 구성 요소는 크게 자료를 담는 Node, 각 노드의 위치를 알려주는 Pointer로 구성이 되어있고, 포인터의 개념이 존재하지 않는 Java 나 Python의 경우 레퍼런스로 이를 대체 합니다. <br>\n",
    "  \n",
    "연결 리스트는 크게 세가지의 종류로 나뉘는데, 한 방향으로 연결하는 Singly Linked List, 양 방향으로 연결하는 Doubly Linked List, 그리고 원형으로 연결하는 Circular Linked List 로 나뉩니다. <br>\n",
    "  \n",
    "이번 섹션에서는 파이썬으로 Singly Linked List를 파이썬으로 구현하는 방법과 각종 기능이 기본 리스트 모듈로 어떻게 작동되는지 보여드리겠습니다."
   ]
  },
  {
   "cell_type": "code",
   "execution_count": 27,
   "id": "dd6bcb7c",
   "metadata": {},
   "outputs": [],
   "source": [
    "#클래스에 대해 잘 모르시는 분은 공부하셔야 합니다.\n",
    "\n",
    "#노드 리스트 구현\n",
    "class Node:\n",
    "    def __init__(self, data):\n",
    "        self.data = data\n",
    "        self.next = None\n",
    "\n",
    "#연결 리스트 구현\n",
    "class LinkedList:\n",
    "    def __init__(self, data):\n",
    "        self.head = Node(data)\n",
    "    \n",
    "    #헤더부터 탐색해 뒤에 새로운 노드 추가하기\n",
    "    def append(self, data):\n",
    "        cur = self.head\n",
    "        while cur.next is not None:\n",
    "            cur = cur.next\n",
    "        cur.next = Node(data)\n",
    "\n",
    "    #모든 노드 값 출력\n",
    "    def print_all(self):\n",
    "        cur = self.head\n",
    "        while cur is not None:\n",
    "            print(cur.data)\n",
    "            cur = cur.next\n",
    "    \n",
    "    #노드 인덱스 알아내기\n",
    "    def get_node(self, index):\n",
    "        cnt = 0\n",
    "        node = self.head\n",
    "        while cnt < index:\n",
    "            cnt += 1\n",
    "            node = node.next\n",
    "        return node\n",
    "\n",
    "    #노드 삽입\n",
    "    def add_node(self, index, value):\n",
    "        new_node = Node(value)\n",
    "        if index == 0:\n",
    "            new_node.next = self.head\n",
    "            self.head = new_node\n",
    "            return\n",
    "        node = self.get_node(index-1)\n",
    "        next_node = node.next\n",
    "        node.next = new_node\n",
    "        new_node.next = next_node\n",
    "    \n",
    "    #노드 삭제\n",
    "    def delete_node(self, index):\n",
    "        if index == 0:\n",
    "            self.head = self.head.next\n",
    "            return\n",
    "        node = self.get_node(index-1)\n",
    "        node.next = node.next.next"
   ]
  },
  {
   "cell_type": "code",
   "execution_count": 42,
   "id": "8dc4f556",
   "metadata": {},
   "outputs": [
    {
     "name": "stdout",
     "output_type": "stream",
     "text": [
      "1\n",
      "2\n"
     ]
    }
   ],
   "source": [
    "#노드 생성하기\n",
    "node1 = Node(1)\n",
    "node2 = Node(2)\n",
    "node3 = Node(3)\n",
    "node4 = Node(4)\n",
    "node1.next = node2\n",
    "node2.next = node3\n",
    "node3.next = node4\n",
    "\n",
    "print(node1.data)          #node1의 데이터 출력\n",
    "print(node1.next.data)     #node1에 연결된 다음 노드의 데이터 출력"
   ]
  },
  {
   "cell_type": "code",
   "execution_count": 56,
   "id": "92678924",
   "metadata": {},
   "outputs": [
    {
     "name": "stdout",
     "output_type": "stream",
     "text": [
      "#1. 연결 리스트 생성하기\n",
      "1\n",
      "2\n",
      "3\n",
      "4\n",
      "\n",
      "\n",
      "#2. 인덱스의 데이터 알아내기\n",
      "3 \n",
      "\n",
      "#3. 맨 끝에 노드 추가하기\n",
      "1\n",
      "2\n",
      "3\n",
      "4\n",
      "5\n",
      "\n",
      "\n",
      "#4. 중간에 노드 추가하기\n",
      "1\n",
      "2\n",
      "middle\n",
      "3\n",
      "4\n",
      "5\n",
      "\n",
      "\n",
      "#6. 노드 삭제하기\n",
      "1\n",
      "middle\n",
      "3\n",
      "4\n",
      "5\n"
     ]
    }
   ],
   "source": [
    "print('#1. 연결 리스트 생성하기')\n",
    "LL = LinkedList(node1.data)\n",
    "LL.append(node2.data)\n",
    "LL.append(node3.data)\n",
    "LL.append(node4.data)\n",
    "LL.print_all() \n",
    "print('\\n')\n",
    "\n",
    "print('#2. 인덱스의 데이터 알아내기')\n",
    "idx = LL.get_node(2)\n",
    "print(idx.data, '\\n')\n",
    "\n",
    "print('#3. 맨 끝에 노드 추가하기')\n",
    "node5 = Node(5)\n",
    "LL.add_node(4, node5.data)\n",
    "LL.print_all()\n",
    "print('\\n')\n",
    "\n",
    "print('#4. 중간에 노드 추가하기')\n",
    "node_mid = Node('middle')\n",
    "LL.add_node(2, node_mid.data)\n",
    "LL.print_all()\n",
    "print('\\n')\n",
    "\n",
    "print('#6. 노드 삭제하기')\n",
    "LL.delete_node(1) #인덱스 1의 해당하는 원소 삭제\n",
    "LL.print_all()"
   ]
  },
  {
   "cell_type": "markdown",
   "id": "c9f88b56",
   "metadata": {},
   "source": [
    "이렇게 파이썬으로 단방향 연결리스트를 구현해 봤습니다. 만약 시간이 남으신다면, doubly / circular linked list 를 구현해 보시는 것도 추천드립니다."
   ]
  },
  {
   "cell_type": "markdown",
   "id": "51ae4338",
   "metadata": {},
   "source": [
    "### 3. Searching Algorithms"
   ]
  },
  {
   "cell_type": "markdown",
   "id": "01f1c74f",
   "metadata": {},
   "source": [
    "탐색 알고리즘은 무엇을 탐색하느냐에 따라 어떤 알고리즘을 쓰는지를 결정하게 됩니다. 앞서 언급했듯이 어떤 자료구조를 사용하느냐에 따라 또 알고리즘의 선택지가 달라집니다. 저희는 가장 기본적인 탐색 알고리즘부터 공부하면서 추후에는 다양한 상황에서의 탐색 알고리즘 ex) 그래프 탐색, CSPs, Adversarial Search, Local Search 등까지 확장해서 공부할 예정입니다. 이번 주에는 선형 자료 구조에 많이 쓰이는 탐색 알고리즘인 Linear Search, Binary Search, Jump Search, Interpolation Search, Exponential Search를 배워보도록 하겠습니다. <br>\n",
    "  \n",
    "선형 자료 구조란 자료가 일차원에 표현됩니다. 예를 들어, 1차원 배열, 연결 리스트, 스택, 큐 등이 예가 될 수 있습니다. 자세한 내용은 밑의 링크를 참고해주세요. <br>\n",
    "  \n",
    "https://www.geeksforgeeks.org/fundamentals-of-algorithms/?ref=shm#SearchingandSorting"
   ]
  },
  {
   "cell_type": "markdown",
   "id": "493efe2c",
   "metadata": {},
   "source": [
    "__3.1 Linear Search__<br>\n",
    "  \n",
    "선형 탐색은 가장 기본적인 탐색 알고리즘입니다. 예를 들어 저희가 도서관에서 책을 찾고있고, 책이 일렬로 진열되어 있다고 가정해 봅시다. 가장 직관적으로 저희가 원하는 책을 찾는 방법은 가장 맨 끝의 책부터 하나 하나 보면서 저희가 원하는 책을 찾을 때 까지 탐색을 하는 방법이 선형 탐색입니다."
   ]
  },
  {
   "cell_type": "code",
   "execution_count": 58,
   "id": "bd401b13",
   "metadata": {},
   "outputs": [
    {
     "name": "stdout",
     "output_type": "stream",
     "text": [
      "3\n",
      "6\n"
     ]
    }
   ],
   "source": [
    "#선형 탐색 예시 \n",
    "def solution(L, x):\n",
    "    for i in range(len(L)):\n",
    "        if x == L[i]:\n",
    "            return i #index를 리턴\n",
    "    return -1\n",
    "\n",
    "L1 = [3,5,2,8,6,1,7]\n",
    "x = 8\n",
    "y = 7\n",
    "\n",
    "print(solution(L1, x))\n",
    "print(solution(L1, y))"
   ]
  },
  {
   "cell_type": "markdown",
   "id": "da72f6a7",
   "metadata": {},
   "source": [
    "__3.2 Binary Search__<br>\n",
    "  \n",
    "이진 탐색의 경우 중간 (median) 부터 탐색하면서 왼쪽 및 오른쪽을 정한 뒤, 또 그 부분의 중간을 탐색하는 기법입니다. 예를 들어 저희가 찾는 책이 해리포터 불의 잔이라고 해봅시다. 그리고 다음과 같은 책장이 있다고 칩시다.<br>\n",
    "  \n",
    "책장 = ['선형대수학', '해리포터와 불의 잔'. '왜 코딩을 하는가', '내 머릿속의 지우개', '감기', '코로나 팬데믹', '진화론'] <br>\n",
    "  \n",
    "그러면 저희는 책장 전체의 중간 인덱스인 3에 해당하는 책부터 탐색하겠죠. 내 머릿속의 지우개는 저희가 찾는 책이 아닙니다. 이제 저희는 왼쪽 혹은 오른쪽을 선택합니다. 어느쪽을 선택해도 무방하니 저희는 오른쪽으로 가봅시다. 이제 인덱스 4-6의 중간값인 5에 해당하는 책을 탐색합니다. 역시 저희가 찾는 책이 아니니 또 오른쪽으로 갑니다. 진화론도 저희가 찾는 책이 아닙니다. 이제는 왼쪽으로 가보겠습니다. 인덱스 4를 방문하고, 인덱스 0-2 구간을 방문하겠죠. 그 가운데 위치한 인덱스 1을 방문하고, 저희가 찾는 책을 찾음과 동시에 코드는 종료됩니다. <br>\n",
    "  \n",
    "선형 탐색과 비교했을때, 이진 탐색은 평균적으로 속도가 훨씬 빠릅니다. [B팀은 탐색 알고리즘의 복잡도를 이해하고 있어야 합니다 (구글링 하시면 됩니다 ㅎㅎ)] 데이터의 크기가 더 크면 속도의 차이가 더 극명히 드러날 것 입니다. 둘다 완전 탐색 알고리즘 (Brute Force) 으로 모든 원소를 완전히 탐색하기에 원소가 자료안에 없는 것이 아닌 이상, 무조건 해를 찾을 수 있습니다. 이진탐색의 경우 정렬된 자료구조라면 훨씬 더 빠르게 찾을 수 있겠죠 (밑의 예시를 참고하세요!)"
   ]
  },
  {
   "cell_type": "code",
   "execution_count": 60,
   "id": "63d2537e",
   "metadata": {},
   "outputs": [
    {
     "name": "stdout",
     "output_type": "stream",
     "text": [
      "3\n"
     ]
    }
   ],
   "source": [
    "#이진 탐색 예시 (위의 설명과 다름 --> 얘는 정수형 자료에만 적용가능 왜일까요? --> elif data[mid] < target 구문 때문이죠)\n",
    "def binary_search(target, data):\n",
    "    data.sort()            #이진 탐색은 먼저 정렬을 해준다면, 훨씬 성능이 향상됩니다.\n",
    "    start = 0\n",
    "    end = len(data) - 1\n",
    "\n",
    "    while start <= end:\n",
    "        mid = (start + end) // 2   #가운데 인덱스\n",
    "\n",
    "        if data[mid] == target:\n",
    "            return mid # 함수를 끝내버린다.\n",
    "        elif data[mid] < target:\n",
    "            start = mid + 1\n",
    "        else:\n",
    "            end = mid -1\n",
    "\n",
    "    return None\n",
    "\n",
    "li = [i**2 for i in range(11)]\n",
    "target = 9\n",
    "idx = binary_search(target, li)\n",
    "\n",
    "print(idx)"
   ]
  },
  {
   "cell_type": "markdown",
   "id": "74a76f57",
   "metadata": {},
   "source": [
    "__3.3 Jump Search__<br>\n",
    "  \n",
    "점프 탐색은 모호성 때문에 잘 사용되진 않습니다. 정렬된 자료 구조에 대해서, 선형 탐색보다는 빠르지만 이진 탐색보다는 느리고 구현하는데에도 귀찮기 때문에 잘 쓰이지는 않지만, 그래도 수학적으로 탐색 알고리즘을 접근한다는데 의의를 둡니다. 궁금하신 분들을 위해 밑에 예제 코드 남깁니다 ㅎㅎ.. 더 자세한 내용은 긱포긱 참고해주세요..ㅎ"
   ]
  },
  {
   "cell_type": "code",
   "execution_count": 61,
   "id": "8b5dfd6c",
   "metadata": {},
   "outputs": [
    {
     "name": "stdout",
     "output_type": "stream",
     "text": [
      "13\n"
     ]
    }
   ],
   "source": [
    "import math\n",
    "def jump_search(arr,search):\n",
    "    flag = 0\n",
    "    interval = int(math.sqrt(len(arr)))\n",
    "    for i in range(0,len(arr),interval):\n",
    "        if arr[i] >  search:\n",
    "            chunk = i\n",
    "            flag = 1\n",
    "            break\n",
    "        if arr[i] ==  search:\n",
    "            return i\n",
    "    if flag==0:\n",
    "        c=i\n",
    "        for j in arr[i:]:\n",
    "            if j==search:\n",
    "                return c\n",
    "            c+=1\n",
    "    else:\n",
    "        arr_ls = arr[chunk-interval:chunk]\n",
    "        ind = [i for i,d in enumerate(arr_ls) if d==search]\n",
    "        return chunk-interval+ind[0]\n",
    "arr = [ i for i in range(1,200,15)]\n",
    "res = jump_search(arr, 196)\n",
    "print(res) "
   ]
  },
  {
   "cell_type": "markdown",
   "id": "a34417c4",
   "metadata": {},
   "source": [
    "__3.4 Interpolation Search__<br>\n",
    "  \n",
    "Interpolation은 수학에서는 보간법이라고 불리고 있는데요, 탐색 알고리즘에서는 현재 위치에 따라 다음 위치를 정하는 방법으로 특정한 공식을 따릅니다. 저보다 설명을 잘하는 블로그를 찾았기에 설명은 이로 대체합니다..ㅎ <br>\n",
    "  \n",
    "https://yoongrammer.tistory.com/77#%EC%8B%9C%EA%B0%84_%EB%B3%B5%EC%9E%A1%EB%8F%84 <br>\n",
    "  \n",
    "보간 탐색은 이진 탐색과 흡사하지만 블로그에도 있듯이 다음 탐색 포지션을 정하는 공식이 다르죠. 적은 데이터 수에 대해서는 보간 탐색이 이진 탐색 보다 빠를 수도 있겠습니다만 대부분의 경우에 이진 탐색이 훨씬 빠릅니다."
   ]
  },
  {
   "cell_type": "markdown",
   "id": "10a49d2a",
   "metadata": {},
   "source": [
    "__3.5 Exponential Search__ <br>\n",
    "  \n",
    "지수 탐색은 이진 탐색을 조금 더 보완해 만든 알고리즘 입니다. 아주 근소하게 이진 탐색보다는 빠르지만 별반 차이 없다고 보셔도 무방합니다. 사실 코드를 보면 알겠지만 지수랑은 별로 크게 상관이 없습니다. 인덱스를 선정하는 방법이 그저 인덱스에 2를 곱해주기 때문에, doubling search 라고도 불립니다. 밑의 코드를 보시면 이진 탐색과 다른 점이 인덱스의 범위를 먼저 추정합니다. 밑의 while 구문을 보시면 인덱스가 인풋 리스트의 길이가 작고 해당 인덱스에 해당하는 값 보다 같거나 작아야합니다. 이는 정렬된 자료가 인덱스랑 선형 관계에 놓여있는 성질을 이용해서 어느 인덱스 쯤에 찾는 값이 있을거다 추정하고 처음 방문 인덱스를 설정한 뒤 이진 탐색에 넣습니다. <br>"
   ]
  },
  {
   "cell_type": "code",
   "execution_count": 65,
   "id": "264e66bb",
   "metadata": {},
   "outputs": [
    {
     "name": "stdout",
     "output_type": "stream",
     "text": [
      "3 5 8 9 0 2 7\n",
      "3\n",
      "0\n",
      "Element found at  0\n"
     ]
    }
   ],
   "source": [
    "list1=list(map(int, input().split(\" \")))\n",
    "val=int(input())\n",
    "if list1[0] == val:\n",
    "    print(\"0\")\n",
    "i = 1\n",
    "#Finding range for binarySearch\n",
    "while(i<len(list1) and list1[i]<=val):\n",
    "        i = i * 2\n",
    "min1=min(i,len(list1))\n",
    "def binarySearch(data_list,low,high,value):\n",
    "    if(high>= low):\n",
    "        mid=int(low + ( high-low )//2)\n",
    "        if data_list[mid] == value:\n",
    "            return mid\n",
    "        if data_list[mid] > value:\n",
    "            return binarySearch(data_list,low,mid - 1,value)\n",
    "        else:\n",
    "            return binarySearch(data_list,mid + 1,high,value)\n",
    "    if(high<low):\n",
    "        return -1\n",
    "    # Applying binary search for specified range\n",
    "index=binarySearch(list1,i/2,min(i,len(list1)),val)\n",
    "if(index==-1):\n",
    "    print(\"Element not found\")\n",
    "else:\n",
    "    print(\"Element found at \",index)"
   ]
  },
  {
   "cell_type": "markdown",
   "id": "c4028f74",
   "metadata": {},
   "source": [
    "제가 복잡도에 대해서는 자세하게는 다루지 않았습니다만, 향후 2119를 들을 예정이 있으신 멤버분들이나 개발 직군을 준비하시는 분들은 탐색 및 정렬 알고리즘의 복잡도에 대한 이해를 잘 정립하시길 바랍니다.."
   ]
  },
  {
   "cell_type": "markdown",
   "id": "86a45a48",
   "metadata": {},
   "source": [
    "### 4. Sorting Algorithms"
   ]
  },
  {
   "cell_type": "markdown",
   "id": "d6f6ba97",
   "metadata": {},
   "source": [
    "이런 탐색 알고리즘을 통해 저희가 알 수 있는건 선형 탐색을 제외한 모든 탐색 알고리즘은 자료가 정렬이 되어있을 때 성능이 향상 된다는 것입니다. 그 말인 즉슨, 자료를 선행적으로 정렬할 필요가 있다는 것이죠. 섹션 4에서는 기본적인 정렬 알고리즘들: Selection Sort, Bubble Sort, Insertion Sort, Merge Sort, Heap Sort, QuickSort, Radix Sort, Counting Sort 에 대해 공부하고, 연결 리스트에서는 어떤 알고리즘을 사용하는게 좋고 이런 것들을 다뤄보도록 하겠습니다."
   ]
  },
  {
   "cell_type": "markdown",
   "id": "a46a49bd",
   "metadata": {},
   "source": [
    "__4.1 Selection Sort__ <br>\n",
    "  \n",
    "dd"
   ]
  },
  {
   "cell_type": "markdown",
   "id": "fed6c198",
   "metadata": {},
   "source": [
    "__4.2 Bubble Sort__ <br>\n",
    "  \n",
    "dd"
   ]
  },
  {
   "cell_type": "markdown",
   "id": "a93d816c",
   "metadata": {},
   "source": [
    "__4.3 Insertion Sort__ <br>\n",
    "  \n",
    "dd"
   ]
  },
  {
   "cell_type": "markdown",
   "id": "590f0c13",
   "metadata": {},
   "source": [
    "__4.4 Merge Sort__ <br>\n",
    "  \n",
    "dd"
   ]
  },
  {
   "cell_type": "markdown",
   "id": "7b3c29d7",
   "metadata": {},
   "source": [
    "__4.5 Heap Sort__ <br>\n",
    "  \n",
    "dd"
   ]
  },
  {
   "cell_type": "markdown",
   "id": "8d7b76fb",
   "metadata": {},
   "source": [
    "__4.6 Heap Sort__ <br>\n",
    "  \n",
    "dd"
   ]
  },
  {
   "cell_type": "markdown",
   "id": "d2e5b9a8",
   "metadata": {},
   "source": [
    "__4.7 Quick Sort__ <br>\n",
    "  \n",
    "dd"
   ]
  },
  {
   "cell_type": "markdown",
   "id": "29dbc8b6",
   "metadata": {},
   "source": [
    "__4.8 Radix Sort__ <br>\n",
    "  \n",
    "dd"
   ]
  },
  {
   "cell_type": "markdown",
   "id": "e336e170",
   "metadata": {},
   "source": [
    "__4.9 Counting Sort__ <br>\n",
    "  \n",
    "dd"
   ]
  }
 ],
 "metadata": {
  "kernelspec": {
   "display_name": "Python 3 (ipykernel)",
   "language": "python",
   "name": "python3"
  },
  "language_info": {
   "codemirror_mode": {
    "name": "ipython",
    "version": 3
   },
   "file_extension": ".py",
   "mimetype": "text/x-python",
   "name": "python",
   "nbconvert_exporter": "python",
   "pygments_lexer": "ipython3",
   "version": "3.9.7"
  }
 },
 "nbformat": 4,
 "nbformat_minor": 5
}
