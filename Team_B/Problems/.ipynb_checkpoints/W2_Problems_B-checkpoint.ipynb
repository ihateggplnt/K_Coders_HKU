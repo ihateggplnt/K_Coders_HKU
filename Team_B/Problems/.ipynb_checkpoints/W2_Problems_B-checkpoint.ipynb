{
 "cells": [
  {
   "cell_type": "markdown",
   "id": "7a14d950",
   "metadata": {},
   "source": [
    "## Week 2:\n",
    "\n",
    "- Algorithm: Search, Sort, Math\n",
    "- Data Structure: Array, Linked List"
   ]
  },
  {
   "cell_type": "markdown",
   "id": "2eb25012",
   "metadata": {},
   "source": [
    "### Jan 24 2022"
   ]
  },
  {
   "cell_type": "markdown",
   "id": "4bd04a77",
   "metadata": {},
   "source": [
    "### Jan 25 2022"
   ]
  },
  {
   "cell_type": "markdown",
   "id": "2eb25012",
   "metadata": {},
   "source": [
    "### Jan 26 2022"
   ]
  },
  {
   "cell_type": "markdown",
   "id": "2eb25012",
   "metadata": {},
   "source": [
    "### Jan 27 2022"
   ]
  },
  {
   "cell_type": "markdown",
   "id": "2eb25012",
   "metadata": {},
   "source": [
    "### Jan 28 2022"
   ]
  }
 ],
 "metadata": {
  "kernelspec": {
   "display_name": "Python 3 (ipykernel)",
   "language": "python",
   "name": "python3"
  },
  "language_info": {
   "codemirror_mode": {
    "name": "ipython",
    "version": 3
   },
   "file_extension": ".py",
   "mimetype": "text/x-python",
   "name": "python",
   "nbconvert_exporter": "python",
   "pygments_lexer": "ipython3",
   "version": "3.9.7"
  }
 },
 "nbformat": 4,
 "nbformat_minor": 5
}
