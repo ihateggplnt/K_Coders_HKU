{
 "cells": [
  {
   "cell_type": "markdown",
   "id": "80bc212e",
   "metadata": {},
   "source": [
    "# Week 2:\n",
    "\n",
    "- Algorithm: Search, Sort, Math\n",
    "- Data Structure: Array Linked List\n",
    "\n",
    "__Source에 제공된 링크로 들어가 문제를 봅니다. 참고로 해당 플랫폼의 계정을 만들어야 합니다.__ <br>\n",
    "__문제풀이 테스트 하는 법: 해당 링크로 들어간다 --> 언어를 파이썬으로 설정한다 --> 자신의 풀이 코드를 넣고 돌려본다.__"
   ]
  },
  {
   "cell_type": "markdown",
   "id": "f376eb25",
   "metadata": {},
   "source": [
    "### 24 Jan 2022\n",
    "\n",
    "Comment: Array 정복기"
   ]
  },
  {
   "cell_type": "markdown",
   "id": "98100ef0",
   "metadata": {},
   "source": [
    "__Q1. HackerRank 2D Array__ <br>\n",
    "\n",
    "__Problem No.__: HDA001 <br>\n",
    "__Topic__: Array <br>\n",
    "__Source__: https://www.hackerrank.com/challenges/2d-array/problem?isFullScreen=true <br>\n",
    "__Difficulty__: Medium"
   ]
  },
  {
   "cell_type": "code",
   "execution_count": null,
   "id": "54323548",
   "metadata": {},
   "outputs": [],
   "source": [
    "#!/bin/python3\n",
    "\n",
    "import math\n",
    "import os\n",
    "import random\n",
    "import re\n",
    "import sys\n",
    "\n",
    "#\n",
    "# Complete the 'hourglassSum' function below.\n",
    "#\n",
    "# The function is expected to return an INTEGER.\n",
    "# The function accepts 2D_INTEGER_ARRAY arr as parameter.\n",
    "#\n",
    "\n",
    "def hourglassSum(arr):\n",
    "    # Write your code here\n",
    "\n",
    "if __name__ == '__main__':\n",
    "    fptr = open(os.environ['OUTPUT_PATH'], 'w')\n",
    "\n",
    "    arr = []\n",
    "\n",
    "    for _ in range(6):\n",
    "        arr.append(list(map(int, input().rstrip().split())))\n",
    "\n",
    "    result = hourglassSum(arr)\n",
    "\n",
    "    fptr.write(str(result) + '\\n')\n",
    "\n",
    "    fptr.close()"
   ]
  },
  {
   "cell_type": "markdown",
   "id": "dda653a6",
   "metadata": {},
   "source": [
    "__Q2. HackerRank Sparse Arrays__ <br>\n",
    "\n",
    "__Problem No.__: HDA002 <br>\n",
    "__Topic__: Array <br>\n",
    "__Source__: https://www.hackerrank.com/challenges/sparse-arrays/problem?isFullScreen=true <br>\n",
    "__Difficulty__: Hard"
   ]
  },
  {
   "cell_type": "code",
   "execution_count": null,
   "id": "71ee2ee7",
   "metadata": {},
   "outputs": [],
   "source": [
    "#!/bin/python3\n",
    "\n",
    "import math\n",
    "import os\n",
    "import random\n",
    "import re\n",
    "import sys\n",
    "\n",
    "#\n",
    "# Complete the 'matchingStrings' function below.\n",
    "#\n",
    "# The function is expected to return an INTEGER_ARRAY.\n",
    "# The function accepts following parameters:\n",
    "#  1. STRING_ARRAY strings\n",
    "#  2. STRING_ARRAY queries\n",
    "#\n",
    "\n",
    "def matchingStrings(strings, queries):\n",
    "    # Write your code here\n",
    "\n",
    "if __name__ == '__main__':\n",
    "    fptr = open(os.environ['OUTPUT_PATH'], 'w')\n",
    "\n",
    "    strings_count = int(input().strip())\n",
    "\n",
    "    strings = []\n",
    "\n",
    "    for _ in range(strings_count):\n",
    "        strings_item = input()\n",
    "        strings.append(strings_item)\n",
    "\n",
    "    queries_count = int(input().strip())\n",
    "\n",
    "    queries = []\n",
    "\n",
    "    for _ in range(queries_count):\n",
    "        queries_item = input()\n",
    "        queries.append(queries_item)\n",
    "\n",
    "    res = matchingStrings(strings, queries)\n",
    "\n",
    "    fptr.write('\\n'.join(map(str, res)))\n",
    "    fptr.write('\\n')\n",
    "\n",
    "    fptr.close()"
   ]
  },
  {
   "cell_type": "markdown",
   "id": "e2a0e3e8",
   "metadata": {},
   "source": [
    "__Q3. HackerRank Array Manipulation__ <br>\n",
    "\n",
    "__Problem No.__: HDA003 <br>\n",
    "__Topic__: Array <br>\n",
    "__Source__: https://www.hackerrank.com/challenges/crush/problem?isFullScreen=true <br>\n",
    "__Difficulty__: Hard"
   ]
  },
  {
   "cell_type": "code",
   "execution_count": null,
   "id": "741223ec",
   "metadata": {},
   "outputs": [],
   "source": [
    "#!/bin/python3\n",
    "\n",
    "import math\n",
    "import os\n",
    "import random\n",
    "import re\n",
    "import sys\n",
    "\n",
    "#\n",
    "# Complete the 'arrayManipulation' function below.\n",
    "#\n",
    "# The function is expected to return a LONG_INTEGER.\n",
    "# The function accepts following parameters:\n",
    "#  1. INTEGER n\n",
    "#  2. 2D_INTEGER_ARRAY queries\n",
    "#\n",
    "\n",
    "def arrayManipulation(n, queries):\n",
    "    # Write your code here\n",
    "\n",
    "if __name__ == '__main__':\n",
    "    fptr = open(os.environ['OUTPUT_PATH'], 'w')\n",
    "\n",
    "    first_multiple_input = input().rstrip().split()\n",
    "\n",
    "    n = int(first_multiple_input[0])\n",
    "\n",
    "    m = int(first_multiple_input[1])\n",
    "\n",
    "    queries = []\n",
    "\n",
    "    for _ in range(m):\n",
    "        queries.append(list(map(int, input().rstrip().split())))\n",
    "\n",
    "    result = arrayManipulation(n, queries)\n",
    "\n",
    "    fptr.write(str(result) + '\\n')\n",
    "\n",
    "    fptr.close()"
   ]
  },
  {
   "cell_type": "markdown",
   "id": "adf554aa",
   "metadata": {},
   "source": [
    "__Q4. Trapping Rain Water__ <br>\n",
    "\n",
    "__Problem No.__: LDA003 <br>\n",
    "__Topic__: Array, DP, Stack, Two Pointer <br>\n",
    "__Source__: https://leetcode.com/problems/trapping-rain-water/ <br>\n",
    "__Difficulty__: Hard"
   ]
  },
  {
   "cell_type": "code",
   "execution_count": null,
   "id": "07cd0d02",
   "metadata": {},
   "outputs": [],
   "source": [
    "class Solution:\n",
    "    def trap(self, height: List[int]) -> int:\n",
    "        #Your Solution Here"
   ]
  },
  {
   "cell_type": "markdown",
   "id": "47b5b6c1",
   "metadata": {},
   "source": [
    "__Q5. N-Queens__ <br>\n",
    "\n",
    "__Problem No.__: LDA004 <br>\n",
    "__Topic__: Array, Backtracking  <br>\n",
    "__Source__: https://leetcode.com/problems/n-queens/ <br>\n",
    "__Difficulty__: Medium"
   ]
  },
  {
   "cell_type": "code",
   "execution_count": null,
   "id": "475409dc",
   "metadata": {},
   "outputs": [],
   "source": [
    "class Solution:\n",
    "    def solveNQueens(self, n: int) -> List[List[str]]:\n",
    "        #Your Solution Here"
   ]
  },
  {
   "cell_type": "markdown",
   "id": "40201ca3",
   "metadata": {},
   "source": [
    "### 25 Jan 2022"
   ]
  },
  {
   "cell_type": "markdown",
   "id": "838580fb",
   "metadata": {},
   "source": [
    "### 26 Jan 2022"
   ]
  },
  {
   "cell_type": "markdown",
   "id": "9bb84256",
   "metadata": {},
   "source": [
    "### 27 Jan 2022"
   ]
  },
  {
   "cell_type": "markdown",
   "id": "05eb5a3c",
   "metadata": {},
   "source": [
    "### 28 Jan 2022"
   ]
  }
 ],
 "metadata": {
  "kernelspec": {
   "display_name": "Python 3 (ipykernel)",
   "language": "python",
   "name": "python3"
  },
  "language_info": {
   "codemirror_mode": {
    "name": "ipython",
    "version": 3
   },
   "file_extension": ".py",
   "mimetype": "text/x-python",
   "name": "python",
   "nbconvert_exporter": "python",
   "pygments_lexer": "ipython3",
   "version": "3.9.7"
  }
 },
 "nbformat": 4,
 "nbformat_minor": 5
}
