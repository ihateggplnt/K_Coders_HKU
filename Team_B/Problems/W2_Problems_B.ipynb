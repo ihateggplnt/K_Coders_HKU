{
 "cells": [
  {
   "cell_type": "markdown",
   "id": "80bc212e",
   "metadata": {},
   "source": [
    "# Week 2:\n",
    "\n",
    "- Algorithm: Search, Sort, Math\n",
    "- Data Structure: Array Linked List"
   ]
  },
  {
   "cell_type": "markdown",
   "id": "f376eb25",
   "metadata": {},
   "source": [
    "### 24 Jan 2022"
   ]
  },
  {
   "cell_type": "markdown",
   "id": "40201ca3",
   "metadata": {},
   "source": [
    "### 25 Jan 2022"
   ]
  },
  {
   "cell_type": "markdown",
   "id": "838580fb",
   "metadata": {},
   "source": [
    "### 26 Jan 2022"
   ]
  },
  {
   "cell_type": "markdown",
   "id": "9bb84256",
   "metadata": {},
   "source": [
    "### 27 Jan 2022"
   ]
  },
  {
   "cell_type": "markdown",
   "id": "05eb5a3c",
   "metadata": {},
   "source": [
    "### 28 Jan 2022"
   ]
  }
 ],
 "metadata": {
  "kernelspec": {
   "display_name": "Python 3 (ipykernel)",
   "language": "python",
   "name": "python3"
  },
  "language_info": {
   "codemirror_mode": {
    "name": "ipython",
    "version": 3
   },
   "file_extension": ".py",
   "mimetype": "text/x-python",
   "name": "python",
   "nbconvert_exporter": "python",
   "pygments_lexer": "ipython3",
   "version": "3.9.7"
  }
 },
 "nbformat": 4,
 "nbformat_minor": 5
}
