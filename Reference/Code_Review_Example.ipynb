{
 "cells": [
  {
   "cell_type": "markdown",
   "id": "dfc3ca21",
   "metadata": {},
   "source": [
    "**본 파일은 모든 멤버가 매주 업로드 해야하는 코드 정리의 예시입니다. 해당 파일을 양식을 복사해 그대로 사용하시길 바랍니다. <br>\n",
    "매주 최소 다섯 문제를 풀고 푼 문제들 중 다섯 문제를 선택해 다음과 같은 양식으로 작성해 팀별 Weekly_Code_Review 폴더에 W3_홍길동.ipynb 로 커밋하여 주시면 됩니다.**"
   ]
  },
  {
   "cell_type": "markdown",
   "id": "1c2e7ff4",
   "metadata": {},
   "source": [
    "# W3 코드 정리\n",
    "\n",
    "**Name:** 홍길동 <br>\n",
    "  \n",
    "**Problems:** <br>\n",
    "- 문제코드1: 문제 타이틀1\n",
    "- 문제코드2: 문제 타이틀2\n",
    "- 문제코드3: 문제 타이틀3\n",
    "- 문제코드4: 문제 타이틀4\n",
    "- 문제코드5: 문제 타이틀5"
   ]
  },
  {
   "cell_type": "markdown",
   "id": "1b19e0be",
   "metadata": {},
   "source": [
    "## Problem 1 (문제 코드1)\n",
    "\n",
    "[문제 설명]"
   ]
  },
  {
   "cell_type": "code",
   "execution_count": null,
   "id": "2d24c138",
   "metadata": {},
   "outputs": [],
   "source": [
    "#문제 풀이"
   ]
  },
  {
   "cell_type": "markdown",
   "id": "adb9f488",
   "metadata": {},
   "source": [
    "[문제 해설]"
   ]
  },
  {
   "cell_type": "markdown",
   "id": "ab042a78",
   "metadata": {},
   "source": [
    "## Problem 2 (문제 코드2)\n",
    "\n",
    "[문제 설명]"
   ]
  },
  {
   "cell_type": "code",
   "execution_count": null,
   "id": "262c35c5",
   "metadata": {},
   "outputs": [],
   "source": [
    "#문제 풀이"
   ]
  },
  {
   "cell_type": "markdown",
   "id": "dde38154",
   "metadata": {},
   "source": [
    "[문제 해설]"
   ]
  },
  {
   "cell_type": "markdown",
   "id": "7b39b88e",
   "metadata": {},
   "source": [
    "## Problem 3 (문제 코드3)\n",
    "\n",
    "[문제 설명]"
   ]
  },
  {
   "cell_type": "code",
   "execution_count": null,
   "id": "3c16ab69",
   "metadata": {},
   "outputs": [],
   "source": [
    "#문제 풀이"
   ]
  },
  {
   "cell_type": "markdown",
   "id": "3b3d8235",
   "metadata": {},
   "source": [
    "[문제 해설]"
   ]
  },
  {
   "cell_type": "markdown",
   "id": "64b217d0",
   "metadata": {},
   "source": [
    "## Problem 4 (문제 코드4)\n",
    "\n",
    "[문제 설명]"
   ]
  },
  {
   "cell_type": "code",
   "execution_count": null,
   "id": "fdbce96f",
   "metadata": {},
   "outputs": [],
   "source": [
    "#문제 풀이"
   ]
  },
  {
   "cell_type": "markdown",
   "id": "1967180d",
   "metadata": {},
   "source": [
    "[문제 해설]"
   ]
  },
  {
   "cell_type": "markdown",
   "id": "5665aeca",
   "metadata": {},
   "source": [
    "## Problem 5 (문제 코드5)\n",
    "\n",
    "[문제 설명]"
   ]
  },
  {
   "cell_type": "code",
   "execution_count": null,
   "id": "b65d3070",
   "metadata": {},
   "outputs": [],
   "source": [
    "#문제 풀이"
   ]
  },
  {
   "cell_type": "markdown",
   "id": "9791070d",
   "metadata": {},
   "source": [
    "[문제 해설]"
   ]
  }
 ],
 "metadata": {
  "kernelspec": {
   "display_name": "Python 3 (ipykernel)",
   "language": "python",
   "name": "python3"
  },
  "language_info": {
   "codemirror_mode": {
    "name": "ipython",
    "version": 3
   },
   "file_extension": ".py",
   "mimetype": "text/x-python",
   "name": "python",
   "nbconvert_exporter": "python",
   "pygments_lexer": "ipython3",
   "version": "3.9.7"
  }
 },
 "nbformat": 4,
 "nbformat_minor": 5
}
